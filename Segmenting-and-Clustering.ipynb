{
 "cells": [
  {
   "cell_type": "code",
   "execution_count": 1,
   "metadata": {},
   "outputs": [
    {
     "name": "stdout",
     "output_type": "stream",
     "text": [
      "\u001b[33mDEPRECATION: Python 2.7 will reach the end of its life on January 1st, 2020. Please upgrade your Python as Python 2.7 won't be maintained after that date. A future version of pip will drop support for Python 2.7. More details about Python 2 support in pip, can be found at https://pip.pypa.io/en/latest/development/release-process/#python-2-support\u001b[0m\n",
      "Collecting BeautifulSoup4\n",
      "\u001b[?25l  Downloading https://files.pythonhosted.org/packages/c5/48/c88b0b390ae1f785942fc83413feb1268a1eb696f343d4d55db735b9bb39/beautifulsoup4-4.8.2-py2-none-any.whl (106kB)\n",
      "\u001b[K     |████████████████████████████████| 112kB 236kB/s eta 0:00:01\n",
      "\u001b[?25hCollecting soupsieve>=1.2\n",
      "  Downloading https://files.pythonhosted.org/packages/81/94/03c0f04471fc245d08d0a99f7946ac228ca98da4fa75796c507f61e688c2/soupsieve-1.9.5-py2.py3-none-any.whl\n",
      "Collecting backports.functools-lru-cache; python_version < \"3\"\n",
      "  Downloading https://files.pythonhosted.org/packages/da/d1/080d2bb13773803648281a49e3918f65b31b7beebf009887a529357fd44a/backports.functools_lru_cache-1.6.1-py2.py3-none-any.whl\n",
      "Installing collected packages: backports.functools-lru-cache, soupsieve, BeautifulSoup4\n",
      "Successfully installed BeautifulSoup4-4.8.2 backports.functools-lru-cache-1.6.1 soupsieve-1.9.5\n",
      "\u001b[33mWARNING: You are using pip version 19.3.1; however, version 20.0.2 is available.\n",
      "You should consider upgrading via the 'pip install --upgrade pip' command.\u001b[0m\n"
     ]
    }
   ],
   "source": [
    "! pip install BeautifulSoup4"
   ]
  },
  {
   "cell_type": "code",
   "execution_count": 2,
   "metadata": {},
   "outputs": [
    {
     "name": "stdout",
     "output_type": "stream",
     "text": [
      "Libraries imported.\n"
     ]
    }
   ],
   "source": [
    "import numpy as np # library to handle data in a vectorized manner\n",
    "import pandas as pd # library for data analsysis\n",
    "import requests \n",
    "from bs4 import BeautifulSoup \n",
    "\n",
    "print('Libraries imported.')"
   ]
  },
  {
   "cell_type": "code",
   "execution_count": 3,
   "metadata": {},
   "outputs": [
    {
     "name": "stdout",
     "output_type": "stream",
     "text": [
      "\u001b[33mDEPRECATION: Python 2.7 will reach the end of its life on January 1st, 2020. Please upgrade your Python as Python 2.7 won't be maintained after that date. A future version of pip will drop support for Python 2.7. More details about Python 2 support in pip, can be found at https://pip.pypa.io/en/latest/development/release-process/#python-2-support\u001b[0m\n",
      "Requirement already satisfied: lxml in /Library/Frameworks/Python.framework/Versions/2.7/lib/python2.7/site-packages (4.4.2)\n",
      "\u001b[33mWARNING: You are using pip version 19.3.1; however, version 20.0.2 is available.\n",
      "You should consider upgrading via the 'pip install --upgrade pip' command.\u001b[0m\n"
     ]
    },
    {
     "name": "stderr",
     "output_type": "stream",
     "text": [
      "/Users/macosx/anaconda3/lib/python3.6/site-packages/bs4/__init__.py:181: UserWarning: No parser was explicitly specified, so I'm using the best available HTML parser for this system (\"lxml\"). This usually isn't a problem, but if you run this code on another system, or in a different virtual environment, it may use a different parser and behave differently.\n",
      "\n",
      "The code that caused this warning is on line 193 of the file /Users/macosx/anaconda3/lib/python3.6/runpy.py. To get rid of this warning, change code that looks like this:\n",
      "\n",
      " BeautifulSoup(YOUR_MARKUP})\n",
      "\n",
      "to this:\n",
      "\n",
      " BeautifulSoup(YOUR_MARKUP, \"lxml\")\n",
      "\n",
      "  markup_type=markup_type))\n"
     ]
    }
   ],
   "source": [
    "\n",
    "URL = \"https://en.wikipedia.org/wiki/List_of_postal_codes_of_Canada:_M\"\n",
    "r = requests.get(URL) \n",
    "!pip install lxml  \n",
    "soup = BeautifulSoup(r.content, 'html') \n",
    "table = soup.find('div', attrs = {'id':'container'})"
   ]
  },
  {
   "cell_type": "code",
   "execution_count": 4,
   "metadata": {},
   "outputs": [
    {
     "name": "stdout",
     "output_type": "stream",
     "text": [
      "Data Collected.\n"
     ]
    }
   ],
   "source": [
    "postalCodes = [];\n",
    "boroughs= [];\n",
    "neighborhoods = [];\n",
    "columnNum = 1;\n",
    "passVal = False\n",
    "\n",
    "for row in soup.find_all('td'):\n",
    "    for cell in row:\n",
    "        if cell.string and cell.string[0].isalpha() and len(cell.string) > 2:\n",
    "            passVal = False\n",
    "            if columnNum == 1:\n",
    "                if passVal == False and cell.string[1].isdigit():\n",
    "                    postalCodes.append(cell.string);   \n",
    "                    columnNum = 2\n",
    "                else:\n",
    "                    continue\n",
    "            elif columnNum == 2 :\n",
    "                if cell.string == 'Not assigned':\n",
    "                    passVal = True\n",
    "                    del postalCodes[-1]\n",
    "                    columnNum = 1\n",
    "                    continue\n",
    "                else:\n",
    "                    boroughs.append(cell.string);      \n",
    "                    columnNum = 3\n",
    "            elif columnNum == 3 :\n",
    "                if cell.string == 'Not assigned\\n':\n",
    "                    neighborhoods.append(boroughs[-1])\n",
    "                else:\n",
    "                    neighborhoods.append(cell.string); \n",
    "                columnNum = 1\n",
    "                \n",
    "print('Data Collected.')"
   ]
  },
  {
   "cell_type": "code",
   "execution_count": 5,
   "metadata": {},
   "outputs": [
    {
     "data": {
      "text/html": [
       "<div>\n",
       "<style scoped>\n",
       "    .dataframe tbody tr th:only-of-type {\n",
       "        vertical-align: middle;\n",
       "    }\n",
       "\n",
       "    .dataframe tbody tr th {\n",
       "        vertical-align: top;\n",
       "    }\n",
       "\n",
       "    .dataframe thead th {\n",
       "        text-align: right;\n",
       "    }\n",
       "</style>\n",
       "<table border=\"1\" class=\"dataframe\">\n",
       "  <thead>\n",
       "    <tr style=\"text-align: right;\">\n",
       "      <th></th>\n",
       "      <th>PostalCode</th>\n",
       "      <th>Borough</th>\n",
       "      <th>Neighborhood</th>\n",
       "    </tr>\n",
       "  </thead>\n",
       "  <tbody>\n",
       "  </tbody>\n",
       "</table>\n",
       "</div>"
      ],
      "text/plain": [
       "Empty DataFrame\n",
       "Columns: [PostalCode, Borough, Neighborhood]\n",
       "Index: []"
      ]
     },
     "execution_count": 5,
     "metadata": {},
     "output_type": "execute_result"
    }
   ],
   "source": [
    "\n",
    "column_names = ['PostalCode', 'Borough', 'Neighborhood'] # The dataframe will consist of three columns: PostalCode, Borough, and Neighborhood\n",
    "\n",
    "# instantiate the dataframe\n",
    "neighbors = pd.DataFrame(columns=column_names)\n",
    "\n",
    "neighbors\n"
   ]
  },
  {
   "cell_type": "code",
   "execution_count": 6,
   "metadata": {},
   "outputs": [
    {
     "name": "stdout",
     "output_type": "stream",
     "text": [
      "    PostalCode           Borough  \\\n",
      "0          M3A        North York   \n",
      "1          M4A        North York   \n",
      "2          M5A  Downtown Toronto   \n",
      "3          M6A        North York   \n",
      "4          M6A        North York   \n",
      "5          M7A  Downtown Toronto   \n",
      "6          M9A         Etobicoke   \n",
      "7          M1B       Scarborough   \n",
      "8          M1B       Scarborough   \n",
      "9          M3B        North York   \n",
      "10         M4B         East York   \n",
      "11         M4B         East York   \n",
      "12         M5B  Downtown Toronto   \n",
      "13         M5B  Downtown Toronto   \n",
      "14         M6B        North York   \n",
      "15         M9B         Etobicoke   \n",
      "16         M9B         Etobicoke   \n",
      "17         M9B         Etobicoke   \n",
      "18         M9B         Etobicoke   \n",
      "19         M9B         Etobicoke   \n",
      "20         M1C       Scarborough   \n",
      "21         M1C       Scarborough   \n",
      "22         M1C       Scarborough   \n",
      "23         M3C        North York   \n",
      "24         M3C        North York   \n",
      "25         M4C         East York   \n",
      "26         M5C  Downtown Toronto   \n",
      "27         M6C              York   \n",
      "28         M9C         Etobicoke   \n",
      "29         M9C         Etobicoke   \n",
      "..         ...               ...   \n",
      "180        M9V         Etobicoke   \n",
      "181        M1W       Scarborough   \n",
      "182        M4W  Downtown Toronto   \n",
      "183        M5W  Downtown Toronto   \n",
      "184        M8W         Etobicoke   \n",
      "185        M8W         Etobicoke   \n",
      "186        M9W         Etobicoke   \n",
      "187        M1X       Scarborough   \n",
      "188        M4X  Downtown Toronto   \n",
      "189        M4X  Downtown Toronto   \n",
      "190        M5X  Downtown Toronto   \n",
      "191        M5X  Downtown Toronto   \n",
      "192        M8X         Etobicoke   \n",
      "193        M8X         Etobicoke   \n",
      "194        M8X         Etobicoke   \n",
      "195        M4Y  Downtown Toronto   \n",
      "196        M7Y      East Toronto   \n",
      "197        M8Y         Etobicoke   \n",
      "198        M8Y         Etobicoke   \n",
      "199        M8Y         Etobicoke   \n",
      "200        M8Y         Etobicoke   \n",
      "201        M8Y         Etobicoke   \n",
      "202        M8Y         Etobicoke   \n",
      "203        M8Y         Etobicoke   \n",
      "204        M8Y         Etobicoke   \n",
      "205        M8Z         Etobicoke   \n",
      "206        M8Z         Etobicoke   \n",
      "207        M8Z         Etobicoke   \n",
      "208        M8Z         Etobicoke   \n",
      "209        M8Z         Etobicoke   \n",
      "\n",
      "                                          Neighborhood  \n",
      "0                                            Parkwoods  \n",
      "1                                     Victoria Village  \n",
      "2                                         Harbourfront  \n",
      "3                                     Lawrence Heights  \n",
      "4                                       Lawrence Manor  \n",
      "5                                         Queen's Park  \n",
      "6                                     Islington Avenue  \n",
      "7                                                Rouge  \n",
      "8                                              Malvern  \n",
      "9                                     Don Mills North\n",
      "  \n",
      "10                                    Woodbine Gardens  \n",
      "11                                       Parkview Hill  \n",
      "12                                            Ryerson\n",
      "  \n",
      "13                                    Garden District\n",
      "  \n",
      "14                                          Glencairn\n",
      "  \n",
      "15                                         Cloverdale\n",
      "  \n",
      "16                                           Islington  \n",
      "17                                       Martin Grove\n",
      "  \n",
      "18                                    Princess Gardens  \n",
      "19                                     West Deane Park  \n",
      "20                                      Highland Creek  \n",
      "21                                          Rouge Hill  \n",
      "22                                          Port Union  \n",
      "23                                     Flemingdon Park  \n",
      "24                                    Don Mills South\n",
      "  \n",
      "25                                    Woodbine Heights  \n",
      "26                                      St. James Town  \n",
      "27                                  Humewood-Cedarvale  \n",
      "28                                  Bloordale Gardens\n",
      "  \n",
      "29                                           Eringate\n",
      "  \n",
      "..                                                 ...  \n",
      "180                                        Thistletown  \n",
      "181                                   L'Amoreaux West\n",
      "  \n",
      "182                                           Rosedale  \n",
      "183                   Stn A PO Boxes 25 The Esplanade\n",
      "  \n",
      "184                                          Alderwood  \n",
      "185                                        Long Branch  \n",
      "186                                         Northwest\n",
      "  \n",
      "187                                        Upper Rouge  \n",
      "188                                        Cabbagetown  \n",
      "189                                     St. James Town  \n",
      "190                               First Canadian Place  \n",
      "191                                   Underground city  \n",
      "192                                       The Kingsway  \n",
      "193                                   Montgomery Road\n",
      "  \n",
      "194                                    Old Mill North\n",
      "  \n",
      "195                               Church and Wellesley  \n",
      "196  Business Reply Mail Processing Centre 969 East...  \n",
      "197                                         Humber Bay  \n",
      "198                                  King's Mill Park\n",
      "  \n",
      "199                          Kingsway Park South East\n",
      "  \n",
      "200                                          Mimico NE  \n",
      "201                                     Old Mill South  \n",
      "202                                 The Queensway East  \n",
      "203                              Royal York South East  \n",
      "204                                           Sunnylea  \n",
      "205                          Kingsway Park South West\n",
      "  \n",
      "206                                          Mimico NW  \n",
      "207                                 The Queensway West  \n",
      "208                             Royal York South West\n",
      "  \n",
      "209                                    South of Bloor\n",
      "  \n",
      "\n",
      "[210 rows x 3 columns]\n"
     ]
    },
    {
     "data": {
      "text/html": [
       "<div>\n",
       "<style scoped>\n",
       "    .dataframe tbody tr th:only-of-type {\n",
       "        vertical-align: middle;\n",
       "    }\n",
       "\n",
       "    .dataframe tbody tr th {\n",
       "        vertical-align: top;\n",
       "    }\n",
       "\n",
       "    .dataframe thead th {\n",
       "        text-align: right;\n",
       "    }\n",
       "</style>\n",
       "<table border=\"1\" class=\"dataframe\">\n",
       "  <thead>\n",
       "    <tr style=\"text-align: right;\">\n",
       "      <th></th>\n",
       "      <th>PostalCode</th>\n",
       "      <th>Borough</th>\n",
       "      <th>Neighborhood</th>\n",
       "    </tr>\n",
       "  </thead>\n",
       "  <tbody>\n",
       "    <tr>\n",
       "      <th>0</th>\n",
       "      <td>M3A</td>\n",
       "      <td>North York</td>\n",
       "      <td>Parkwoods</td>\n",
       "    </tr>\n",
       "    <tr>\n",
       "      <th>1</th>\n",
       "      <td>M4A</td>\n",
       "      <td>North York</td>\n",
       "      <td>Victoria Village</td>\n",
       "    </tr>\n",
       "    <tr>\n",
       "      <th>2</th>\n",
       "      <td>M5A</td>\n",
       "      <td>Downtown Toronto</td>\n",
       "      <td>Harbourfront</td>\n",
       "    </tr>\n",
       "    <tr>\n",
       "      <th>3</th>\n",
       "      <td>M6A</td>\n",
       "      <td>North York</td>\n",
       "      <td>Lawrence Heights</td>\n",
       "    </tr>\n",
       "    <tr>\n",
       "      <th>4</th>\n",
       "      <td>M6A</td>\n",
       "      <td>North York</td>\n",
       "      <td>Lawrence Manor</td>\n",
       "    </tr>\n",
       "  </tbody>\n",
       "</table>\n",
       "</div>"
      ],
      "text/plain": [
       "  PostalCode           Borough      Neighborhood\n",
       "0        M3A        North York         Parkwoods\n",
       "1        M4A        North York  Victoria Village\n",
       "2        M5A  Downtown Toronto      Harbourfront\n",
       "3        M6A        North York  Lawrence Heights\n",
       "4        M6A        North York    Lawrence Manor"
      ]
     },
     "execution_count": 6,
     "metadata": {},
     "output_type": "execute_result"
    }
   ],
   "source": [
    "for data in range(len(neighborhoods)):\n",
    "    code = postalCodes[data]\n",
    "    borough = boroughs[data]\n",
    "    neighborhood_name = neighborhoods[data]\n",
    "\n",
    "    neighbors = neighbors.append({ 'PostalCode': code,\n",
    "                                   'Borough': borough,\n",
    "                                   'Neighborhood': neighborhood_name}, ignore_index=True)\n",
    "\n",
    "print(neighbors)\n",
    "\n",
    "# skip not assigned boroughs:\n",
    "df = neighbors.drop(neighbors[(neighbors.Borough == \"Not assigned\")].index)\n",
    "# give \"Not assigned\" Neighborhoods same name as Borough:\n",
    "neighbors.Neighborhood.replace(\"Not assigned\", neighbors.Borough, inplace=True)\n",
    "\n",
    "# copy Borough value to Neighborhood if NaN:\n",
    "neighbors.Neighborhood.fillna(df.Borough, inplace=True)\n",
    "# drop duplicate rows:\n",
    "neighbors=neighbors.drop_duplicates()\n",
    "\n",
    "neighbors.head()"
   ]
  },
  {
   "cell_type": "code",
   "execution_count": 7,
   "metadata": {},
   "outputs": [
    {
     "data": {
      "text/plain": [
       "(210, 3)"
      ]
     },
     "execution_count": 7,
     "metadata": {},
     "output_type": "execute_result"
    }
   ],
   "source": [
    "neighbors.shape"
   ]
  },
  {
   "cell_type": "code",
   "execution_count": null,
   "metadata": {},
   "outputs": [],
   "source": []
  },
  {
   "cell_type": "code",
   "execution_count": null,
   "metadata": {},
   "outputs": [],
   "source": []
  }
 ],
 "metadata": {
  "kernelspec": {
   "display_name": "Python 3",
   "language": "python",
   "name": "python3"
  },
  "language_info": {
   "codemirror_mode": {
    "name": "ipython",
    "version": 3
   },
   "file_extension": ".py",
   "mimetype": "text/x-python",
   "name": "python",
   "nbconvert_exporter": "python",
   "pygments_lexer": "ipython3",
   "version": "3.6.4"
  }
 },
 "nbformat": 4,
 "nbformat_minor": 2
}
